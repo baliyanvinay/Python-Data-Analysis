{
 "cells": [
  {
   "cell_type": "code",
   "execution_count": 2,
   "metadata": {},
   "outputs": [],
   "source": [
    "import pandas as pd"
   ]
  },
  {
   "cell_type": "code",
   "execution_count": 2,
   "metadata": {},
   "outputs": [
    {
     "name": "stdout",
     "output_type": "stream",
     "text": [
      "name                        size  creationDate         \n",
      "-------------------------  -----  -------------------  \n",
      "pit_stops.csv              287KB  2020-08-18 16:27:18  \n",
      "circuits.csv                10KB  2020-08-18 16:27:18  \n",
      "seasons.csv                  4KB  2020-08-18 16:27:18  \n",
      "qualifying.csv             357KB  2020-08-18 16:27:18  \n",
      "lap_times.csv               14MB  2020-08-18 16:27:18  \n",
      "constructor_results.csv    195KB  2020-08-18 16:27:18  \n",
      "driver_standings.csv       806KB  2020-08-18 16:27:18  \n",
      "constructors.csv            17KB  2020-08-18 16:27:18  \n",
      "constructor_standings.csv  284KB  2020-08-18 16:27:18  \n",
      "drivers.csv                 91KB  2020-08-18 16:27:18  \n",
      "status.csv                   2KB  2020-08-18 16:27:18  \n",
      "races.csv                  111KB  2020-08-18 16:27:18  \n",
      "results.csv                  1MB  2020-08-18 16:27:18  \n"
     ]
    }
   ],
   "source": [
    "!kaggle datasets files rohanrao/formula-1-world-championship-1950-2020/"
   ]
  },
  {
   "cell_type": "code",
   "execution_count": 3,
   "metadata": {},
   "outputs": [
    {
     "name": "stdout",
     "output_type": "stream",
     "text": [
      "Downloading formula-1-world-championship-1950-2020.zip to C:\\Users\\1037624\\Documents\\Python-Projects"
     ]
    },
    {
     "name": "stderr",
     "output_type": "stream",
     "text": [
      "\n",
      "  0%|          | 0.00/5.15M [00:00<?, ?B/s]\n",
      " 19%|#9        | 1.00M/5.15M [00:03<00:14, 291kB/s]\n",
      " 39%|###8      | 2.00M/5.15M [00:04<00:09, 366kB/s]\n",
      " 58%|#####8    | 3.00M/5.15M [00:05<00:04, 475kB/s]\n",
      " 78%|#######7  | 4.00M/5.15M [00:05<00:01, 618kB/s]\n",
      " 97%|#########7| 5.00M/5.15M [00:06<00:00, 799kB/s]\n",
      "100%|##########| 5.15M/5.15M [00:06<00:00, 842kB/s]\n"
     ]
    },
    {
     "name": "stdout",
     "output_type": "stream",
     "text": [
      "\n",
      "\n"
     ]
    }
   ],
   "source": [
    "!kaggle datasets download rohanrao/formula-1-world-championship-1950-2020/"
   ]
  },
  {
   "cell_type": "code",
   "execution_count": 6,
   "metadata": {},
   "outputs": [
    {
     "name": "stdout",
     "output_type": "stream",
     "text": [
      " Volume in drive C is Local Disk\n",
      " Volume Serial Number is 82DD-501E\n",
      "\n",
      " Directory of C:\\Users\\1037624\\Documents\\Python-Projects\n",
      "\n",
      "08/29/2020  06:27 PM    <DIR>          .\n",
      "08/29/2020  06:27 PM    <DIR>          ..\n",
      "08/19/2020  11:52 AM             1,928 .gitignore\n",
      "08/29/2020  06:25 PM    <DIR>          .ipynb_checkpoints\n",
      "08/19/2020  11:52 AM             8,967 BlackJack Game.ipynb\n",
      "08/28/2020  04:08 PM    <DIR>          django_blog\n",
      "08/29/2020  06:27 PM             3,027 Formula 1 World Championship (1950 - 2020).ipynb\n",
      "08/29/2020  06:27 PM         5,403,839 formula-1-world-championship-1950-2020.zip\n",
      "08/29/2020  08:56 AM            99,637 Indian School Education.ipynb\n",
      "08/22/2020  01:14 PM           197,969 NASA Astronauts, 1959-Present.ipynb\n",
      "08/19/2020  11:52 AM                55 README.md\n",
      "08/19/2020  11:52 AM             5,390 Tic Tac Toe Project.ipynb\n",
      "               8 File(s)      5,720,812 bytes\n",
      "               4 Dir(s)  193,932,283,904 bytes free\n"
     ]
    }
   ],
   "source": [
    "!dir"
   ]
  },
  {
   "cell_type": "markdown",
   "metadata": {},
   "source": [
    "#### For now, I am using the data downloaded locally from kaggle, it is the same datasets but to avoid unzipping the dataset in Jupyter, I am using already zipped files"
   ]
  },
  {
   "cell_type": "markdown",
   "metadata": {},
   "source": [
    "# Circuit Analysis"
   ]
  },
  {
   "cell_type": "code",
   "execution_count": 4,
   "metadata": {},
   "outputs": [],
   "source": [
    "df_circuits=pd.read_csv(\"../Data/Formula 1 World Championship (1950 - 2020)/circuits.csv\")"
   ]
  },
  {
   "cell_type": "code",
   "execution_count": 5,
   "metadata": {},
   "outputs": [
    {
     "data": {
      "text/html": [
       "<div>\n",
       "<style scoped>\n",
       "    .dataframe tbody tr th:only-of-type {\n",
       "        vertical-align: middle;\n",
       "    }\n",
       "\n",
       "    .dataframe tbody tr th {\n",
       "        vertical-align: top;\n",
       "    }\n",
       "\n",
       "    .dataframe thead th {\n",
       "        text-align: right;\n",
       "    }\n",
       "</style>\n",
       "<table border=\"1\" class=\"dataframe\">\n",
       "  <thead>\n",
       "    <tr style=\"text-align: right;\">\n",
       "      <th></th>\n",
       "      <th>circuitId</th>\n",
       "      <th>circuitRef</th>\n",
       "      <th>name</th>\n",
       "      <th>location</th>\n",
       "      <th>country</th>\n",
       "      <th>lat</th>\n",
       "      <th>lng</th>\n",
       "      <th>alt</th>\n",
       "      <th>url</th>\n",
       "    </tr>\n",
       "  </thead>\n",
       "  <tbody>\n",
       "    <tr>\n",
       "      <th>0</th>\n",
       "      <td>1</td>\n",
       "      <td>albert_park</td>\n",
       "      <td>Albert Park Grand Prix Circuit</td>\n",
       "      <td>Melbourne</td>\n",
       "      <td>Australia</td>\n",
       "      <td>-37.84970</td>\n",
       "      <td>144.96800</td>\n",
       "      <td>10</td>\n",
       "      <td>http://en.wikipedia.org/wiki/Melbourne_Grand_P...</td>\n",
       "    </tr>\n",
       "    <tr>\n",
       "      <th>1</th>\n",
       "      <td>2</td>\n",
       "      <td>sepang</td>\n",
       "      <td>Sepang International Circuit</td>\n",
       "      <td>Kuala Lumpur</td>\n",
       "      <td>Malaysia</td>\n",
       "      <td>2.76083</td>\n",
       "      <td>101.73800</td>\n",
       "      <td>\\N</td>\n",
       "      <td>http://en.wikipedia.org/wiki/Sepang_Internatio...</td>\n",
       "    </tr>\n",
       "    <tr>\n",
       "      <th>2</th>\n",
       "      <td>3</td>\n",
       "      <td>bahrain</td>\n",
       "      <td>Bahrain International Circuit</td>\n",
       "      <td>Sakhir</td>\n",
       "      <td>Bahrain</td>\n",
       "      <td>26.03250</td>\n",
       "      <td>50.51060</td>\n",
       "      <td>\\N</td>\n",
       "      <td>http://en.wikipedia.org/wiki/Bahrain_Internati...</td>\n",
       "    </tr>\n",
       "    <tr>\n",
       "      <th>3</th>\n",
       "      <td>4</td>\n",
       "      <td>catalunya</td>\n",
       "      <td>Circuit de Barcelona-Catalunya</td>\n",
       "      <td>Montmeló</td>\n",
       "      <td>Spain</td>\n",
       "      <td>41.57000</td>\n",
       "      <td>2.26111</td>\n",
       "      <td>\\N</td>\n",
       "      <td>http://en.wikipedia.org/wiki/Circuit_de_Barcel...</td>\n",
       "    </tr>\n",
       "    <tr>\n",
       "      <th>4</th>\n",
       "      <td>5</td>\n",
       "      <td>istanbul</td>\n",
       "      <td>Istanbul Park</td>\n",
       "      <td>Istanbul</td>\n",
       "      <td>Turkey</td>\n",
       "      <td>40.95170</td>\n",
       "      <td>29.40500</td>\n",
       "      <td>\\N</td>\n",
       "      <td>http://en.wikipedia.org/wiki/Istanbul_Park</td>\n",
       "    </tr>\n",
       "  </tbody>\n",
       "</table>\n",
       "</div>"
      ],
      "text/plain": [
       "   circuitId   circuitRef                            name      location  \\\n",
       "0          1  albert_park  Albert Park Grand Prix Circuit     Melbourne   \n",
       "1          2       sepang    Sepang International Circuit  Kuala Lumpur   \n",
       "2          3      bahrain   Bahrain International Circuit        Sakhir   \n",
       "3          4    catalunya  Circuit de Barcelona-Catalunya      Montmeló   \n",
       "4          5     istanbul                   Istanbul Park      Istanbul   \n",
       "\n",
       "     country       lat        lng alt  \\\n",
       "0  Australia -37.84970  144.96800  10   \n",
       "1   Malaysia   2.76083  101.73800  \\N   \n",
       "2    Bahrain  26.03250   50.51060  \\N   \n",
       "3      Spain  41.57000    2.26111  \\N   \n",
       "4     Turkey  40.95170   29.40500  \\N   \n",
       "\n",
       "                                                 url  \n",
       "0  http://en.wikipedia.org/wiki/Melbourne_Grand_P...  \n",
       "1  http://en.wikipedia.org/wiki/Sepang_Internatio...  \n",
       "2  http://en.wikipedia.org/wiki/Bahrain_Internati...  \n",
       "3  http://en.wikipedia.org/wiki/Circuit_de_Barcel...  \n",
       "4         http://en.wikipedia.org/wiki/Istanbul_Park  "
      ]
     },
     "execution_count": 5,
     "metadata": {},
     "output_type": "execute_result"
    }
   ],
   "source": [
    "df_circuits.head()"
   ]
  },
  {
   "cell_type": "code",
   "execution_count": 6,
   "metadata": {},
   "outputs": [
    {
     "data": {
      "text/plain": [
       "(76, 9)"
      ]
     },
     "execution_count": 6,
     "metadata": {},
     "output_type": "execute_result"
    }
   ],
   "source": [
    "df_circuits.shape"
   ]
  },
  {
   "cell_type": "markdown",
   "metadata": {},
   "source": [
    "### Plotting the circuits on world map using folium"
   ]
  },
  {
   "cell_type": "code",
   "execution_count": 7,
   "metadata": {},
   "outputs": [],
   "source": [
    "import folium"
   ]
  },
  {
   "cell_type": "code",
   "execution_count": 20,
   "metadata": {},
   "outputs": [],
   "source": [
    "world_map=folium.Map()"
   ]
  },
  {
   "cell_type": "code",
   "execution_count": 21,
   "metadata": {},
   "outputs": [
    {
     "data": {
      "text/html": [
       "<div style=\"width:100%;\"><div style=\"position:relative;width:100%;height:0;padding-bottom:60%;\"><span style=\"color:#565656\">Make this Notebook Trusted to load map: File -> Trust Notebook</span><iframe src=\"about:blank\" style=\"position:absolute;width:100%;height:100%;left:0;top:0;border:none !important;\" data-html=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 onload=\"this.contentDocument.open();this.contentDocument.write(atob(this.getAttribute('data-html')));this.contentDocument.close();\" allowfullscreen webkitallowfullscreen mozallowfullscreen></iframe></div></div>"
      ],
      "text/plain": [
       "<folium.folium.Map at 0x1d611bf9df0>"
      ]
     },
     "execution_count": 21,
     "metadata": {},
     "output_type": "execute_result"
    }
   ],
   "source": [
    "world_map"
   ]
  },
  {
   "cell_type": "markdown",
   "metadata": {},
   "source": [
    "### Now we have plot markers based on the coordinates for each circuit"
   ]
  },
  {
   "cell_type": "code",
   "execution_count": 10,
   "metadata": {},
   "outputs": [
    {
     "data": {
      "text/html": [
       "<div>\n",
       "<style scoped>\n",
       "    .dataframe tbody tr th:only-of-type {\n",
       "        vertical-align: middle;\n",
       "    }\n",
       "\n",
       "    .dataframe tbody tr th {\n",
       "        vertical-align: top;\n",
       "    }\n",
       "\n",
       "    .dataframe thead th {\n",
       "        text-align: right;\n",
       "    }\n",
       "</style>\n",
       "<table border=\"1\" class=\"dataframe\">\n",
       "  <thead>\n",
       "    <tr style=\"text-align: right;\">\n",
       "      <th></th>\n",
       "      <th>lat</th>\n",
       "      <th>lng</th>\n",
       "    </tr>\n",
       "  </thead>\n",
       "  <tbody>\n",
       "    <tr>\n",
       "      <th>0</th>\n",
       "      <td>-37.84970</td>\n",
       "      <td>144.96800</td>\n",
       "    </tr>\n",
       "    <tr>\n",
       "      <th>1</th>\n",
       "      <td>2.76083</td>\n",
       "      <td>101.73800</td>\n",
       "    </tr>\n",
       "    <tr>\n",
       "      <th>2</th>\n",
       "      <td>26.03250</td>\n",
       "      <td>50.51060</td>\n",
       "    </tr>\n",
       "    <tr>\n",
       "      <th>3</th>\n",
       "      <td>41.57000</td>\n",
       "      <td>2.26111</td>\n",
       "    </tr>\n",
       "    <tr>\n",
       "      <th>4</th>\n",
       "      <td>40.95170</td>\n",
       "      <td>29.40500</td>\n",
       "    </tr>\n",
       "    <tr>\n",
       "      <th>...</th>\n",
       "      <td>...</td>\n",
       "      <td>...</td>\n",
       "    </tr>\n",
       "    <tr>\n",
       "      <th>71</th>\n",
       "      <td>40.77690</td>\n",
       "      <td>-74.01110</td>\n",
       "    </tr>\n",
       "    <tr>\n",
       "      <th>72</th>\n",
       "      <td>40.37250</td>\n",
       "      <td>49.85330</td>\n",
       "    </tr>\n",
       "    <tr>\n",
       "      <th>73</th>\n",
       "      <td>21.01660</td>\n",
       "      <td>105.76600</td>\n",
       "    </tr>\n",
       "    <tr>\n",
       "      <th>74</th>\n",
       "      <td>37.22700</td>\n",
       "      <td>-8.62670</td>\n",
       "    </tr>\n",
       "    <tr>\n",
       "      <th>75</th>\n",
       "      <td>43.99750</td>\n",
       "      <td>11.37190</td>\n",
       "    </tr>\n",
       "  </tbody>\n",
       "</table>\n",
       "<p>76 rows × 2 columns</p>\n",
       "</div>"
      ],
      "text/plain": [
       "         lat        lng\n",
       "0  -37.84970  144.96800\n",
       "1    2.76083  101.73800\n",
       "2   26.03250   50.51060\n",
       "3   41.57000    2.26111\n",
       "4   40.95170   29.40500\n",
       "..       ...        ...\n",
       "71  40.77690  -74.01110\n",
       "72  40.37250   49.85330\n",
       "73  21.01660  105.76600\n",
       "74  37.22700   -8.62670\n",
       "75  43.99750   11.37190\n",
       "\n",
       "[76 rows x 2 columns]"
      ]
     },
     "execution_count": 10,
     "metadata": {},
     "output_type": "execute_result"
    }
   ],
   "source": [
    "circuit_loc=df_circuits[['lat','lng']]\n",
    "circuit_loc"
   ]
  },
  {
   "cell_type": "code",
   "execution_count": 11,
   "metadata": {},
   "outputs": [
    {
     "data": {
      "text/plain": [
       "pandas.core.frame.DataFrame"
      ]
     },
     "execution_count": 11,
     "metadata": {},
     "output_type": "execute_result"
    }
   ],
   "source": [
    "type(circuit_loc)"
   ]
  },
  {
   "cell_type": "code",
   "execution_count": 12,
   "metadata": {},
   "outputs": [
    {
     "data": {
      "text/plain": [
       "[[-37.8497, 144.968],\n",
       " [2.76083, 101.738],\n",
       " [26.0325, 50.5106],\n",
       " [41.57, 2.26111],\n",
       " [40.9517, 29.405],\n",
       " [43.7347, 7.420560000000001],\n",
       " [45.5, -73.5228],\n",
       " [46.8642, 3.16361],\n",
       " [52.0786, -1.01694],\n",
       " [49.3278, 8.56583],\n",
       " [47.5789, 19.2486],\n",
       " [39.4589, -0.331667],\n",
       " [50.4372, 5.97139],\n",
       " [45.6156, 9.28111],\n",
       " [1.2914, 103.86399999999999],\n",
       " [35.3717, 138.92700000000002],\n",
       " [31.3389, 121.22],\n",
       " [-23.7036, -46.6997],\n",
       " [39.795, -86.2347],\n",
       " [50.3356, 6.9475],\n",
       " [44.3439, 11.7167],\n",
       " [34.8431, 136.541],\n",
       " [47.2197, 14.7647],\n",
       " [24.4672, 54.6031],\n",
       " [-34.6943, -58.4593],\n",
       " [36.7083, -6.03417],\n",
       " [38.7506, -9.394169999999999],\n",
       " [34.915, 134.221],\n",
       " [-34.9272, 138.61700000000002],\n",
       " [-25.9894, 28.0767],\n",
       " [52.8306, -1.3752799999999998],\n",
       " [19.4042, -99.0907],\n",
       " [33.4479, -112.075],\n",
       " [43.2506, 5.79167],\n",
       " [34.7333, 126.417],\n",
       " [-22.9756, -43.395],\n",
       " [42.3298, -83.0401],\n",
       " [51.3569, 0.263056],\n",
       " [52.3888, 4.54092],\n",
       " [50.9894, 5.25694],\n",
       " [47.3625, 4.89913],\n",
       " [32.7774, -96.7587],\n",
       " [33.7651, -118.189],\n",
       " [36.1162, -115.17399999999999],\n",
       " [40.6171, -3.58558],\n",
       " [42.3369, -76.9272],\n",
       " [57.2653, 13.6042],\n",
       " [44.0481, -78.6756],\n",
       " [41.3664, 2.15167],\n",
       " [50.6211, 4.3269400000000005],\n",
       " [45.7472, 3.0388900000000003],\n",
       " [46.1877, -74.6099],\n",
       " [49.3306, 1.00458],\n",
       " [47.95, 0.22423099999999999],\n",
       " [49.2542, 3.9308300000000003],\n",
       " [-33.0486, 27.8736],\n",
       " [47.2039, 14.7478],\n",
       " [53.4769, -2.94056],\n",
       " [41.1705, -8.67325],\n",
       " [33.937, -117.273],\n",
       " [52.4806, 13.2514],\n",
       " [38.7197, -9.20306],\n",
       " [27.4547, -81.3483],\n",
       " [33.5786, -7.6875],\n",
       " [42.475, 14.1508],\n",
       " [46.9589, 7.40194],\n",
       " [41.3903, 2.11667],\n",
       " [28.3487, 77.5331],\n",
       " [30.1328, -97.6411],\n",
       " [47.2197, 14.7647],\n",
       " [43.4057, 39.9578],\n",
       " [40.7769, -74.0111],\n",
       " [40.3725, 49.8533],\n",
       " [21.0166, 105.766],\n",
       " [37.227, -8.6267],\n",
       " [43.9975, 11.3719]]"
      ]
     },
     "execution_count": 12,
     "metadata": {},
     "output_type": "execute_result"
    }
   ],
   "source": [
    "circuit_loc_list=circuit_loc.values.tolist()\n",
    "circuit_loc_list"
   ]
  },
  {
   "cell_type": "code",
   "execution_count": 13,
   "metadata": {},
   "outputs": [
    {
     "data": {
      "text/html": [
       "<div style=\"width:100%;\"><div style=\"position:relative;width:100%;height:0;padding-bottom:60%;\"><span style=\"color:#565656\">Make this Notebook Trusted to load map: File -> Trust Notebook</span><iframe src=\"about:blank\" style=\"position:absolute;width:100%;height:100%;left:0;top:0;border:none !important;\" data-html=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 onload=\"this.contentDocument.open();this.contentDocument.write(atob(this.getAttribute('data-html')));this.contentDocument.close();\" allowfullscreen webkitallowfullscreen mozallowfullscreen></iframe></div></div>"
      ],
      "text/plain": [
       "<folium.folium.Map at 0x1d611bc04f0>"
      ]
     },
     "execution_count": 13,
     "metadata": {},
     "output_type": "execute_result"
    }
   ],
   "source": [
    "for index in range(0, len(circuit_loc_list)):\n",
    "    folium.Marker(location=circuit_loc_list[index], popup=df_circuits['name'][index]).add_to(world_map)\n",
    "world_map"
   ]
  },
  {
   "cell_type": "markdown",
   "metadata": {},
   "source": [
    "### Which country has most number of circuits for F1?"
   ]
  },
  {
   "cell_type": "code",
   "execution_count": 22,
   "metadata": {},
   "outputs": [
    {
     "data": {
      "text/html": [
       "<div>\n",
       "<style scoped>\n",
       "    .dataframe tbody tr th:only-of-type {\n",
       "        vertical-align: middle;\n",
       "    }\n",
       "\n",
       "    .dataframe tbody tr th {\n",
       "        vertical-align: top;\n",
       "    }\n",
       "\n",
       "    .dataframe thead th {\n",
       "        text-align: right;\n",
       "    }\n",
       "</style>\n",
       "<table border=\"1\" class=\"dataframe\">\n",
       "  <thead>\n",
       "    <tr style=\"text-align: right;\">\n",
       "      <th></th>\n",
       "      <th>circuitId</th>\n",
       "      <th>circuitRef</th>\n",
       "      <th>name</th>\n",
       "      <th>location</th>\n",
       "      <th>country</th>\n",
       "      <th>lat</th>\n",
       "      <th>lng</th>\n",
       "      <th>alt</th>\n",
       "      <th>url</th>\n",
       "    </tr>\n",
       "  </thead>\n",
       "  <tbody>\n",
       "    <tr>\n",
       "      <th>0</th>\n",
       "      <td>1</td>\n",
       "      <td>albert_park</td>\n",
       "      <td>Albert Park Grand Prix Circuit</td>\n",
       "      <td>Melbourne</td>\n",
       "      <td>Australia</td>\n",
       "      <td>-37.84970</td>\n",
       "      <td>144.96800</td>\n",
       "      <td>10</td>\n",
       "      <td>http://en.wikipedia.org/wiki/Melbourne_Grand_P...</td>\n",
       "    </tr>\n",
       "    <tr>\n",
       "      <th>1</th>\n",
       "      <td>2</td>\n",
       "      <td>sepang</td>\n",
       "      <td>Sepang International Circuit</td>\n",
       "      <td>Kuala Lumpur</td>\n",
       "      <td>Malaysia</td>\n",
       "      <td>2.76083</td>\n",
       "      <td>101.73800</td>\n",
       "      <td>\\N</td>\n",
       "      <td>http://en.wikipedia.org/wiki/Sepang_Internatio...</td>\n",
       "    </tr>\n",
       "    <tr>\n",
       "      <th>2</th>\n",
       "      <td>3</td>\n",
       "      <td>bahrain</td>\n",
       "      <td>Bahrain International Circuit</td>\n",
       "      <td>Sakhir</td>\n",
       "      <td>Bahrain</td>\n",
       "      <td>26.03250</td>\n",
       "      <td>50.51060</td>\n",
       "      <td>\\N</td>\n",
       "      <td>http://en.wikipedia.org/wiki/Bahrain_Internati...</td>\n",
       "    </tr>\n",
       "    <tr>\n",
       "      <th>3</th>\n",
       "      <td>4</td>\n",
       "      <td>catalunya</td>\n",
       "      <td>Circuit de Barcelona-Catalunya</td>\n",
       "      <td>Montmeló</td>\n",
       "      <td>Spain</td>\n",
       "      <td>41.57000</td>\n",
       "      <td>2.26111</td>\n",
       "      <td>\\N</td>\n",
       "      <td>http://en.wikipedia.org/wiki/Circuit_de_Barcel...</td>\n",
       "    </tr>\n",
       "    <tr>\n",
       "      <th>4</th>\n",
       "      <td>5</td>\n",
       "      <td>istanbul</td>\n",
       "      <td>Istanbul Park</td>\n",
       "      <td>Istanbul</td>\n",
       "      <td>Turkey</td>\n",
       "      <td>40.95170</td>\n",
       "      <td>29.40500</td>\n",
       "      <td>\\N</td>\n",
       "      <td>http://en.wikipedia.org/wiki/Istanbul_Park</td>\n",
       "    </tr>\n",
       "  </tbody>\n",
       "</table>\n",
       "</div>"
      ],
      "text/plain": [
       "   circuitId   circuitRef                            name      location  \\\n",
       "0          1  albert_park  Albert Park Grand Prix Circuit     Melbourne   \n",
       "1          2       sepang    Sepang International Circuit  Kuala Lumpur   \n",
       "2          3      bahrain   Bahrain International Circuit        Sakhir   \n",
       "3          4    catalunya  Circuit de Barcelona-Catalunya      Montmeló   \n",
       "4          5     istanbul                   Istanbul Park      Istanbul   \n",
       "\n",
       "     country       lat        lng alt  \\\n",
       "0  Australia -37.84970  144.96800  10   \n",
       "1   Malaysia   2.76083  101.73800  \\N   \n",
       "2    Bahrain  26.03250   50.51060  \\N   \n",
       "3      Spain  41.57000    2.26111  \\N   \n",
       "4     Turkey  40.95170   29.40500  \\N   \n",
       "\n",
       "                                                 url  \n",
       "0  http://en.wikipedia.org/wiki/Melbourne_Grand_P...  \n",
       "1  http://en.wikipedia.org/wiki/Sepang_Internatio...  \n",
       "2  http://en.wikipedia.org/wiki/Bahrain_Internati...  \n",
       "3  http://en.wikipedia.org/wiki/Circuit_de_Barcel...  \n",
       "4         http://en.wikipedia.org/wiki/Istanbul_Park  "
      ]
     },
     "execution_count": 22,
     "metadata": {},
     "output_type": "execute_result"
    }
   ],
   "source": [
    "df_circuits.head()"
   ]
  },
  {
   "cell_type": "code",
   "execution_count": 24,
   "metadata": {},
   "outputs": [
    {
     "data": {
      "text/plain": [
       "country\n",
       "Argentina        1\n",
       "Australia        2\n",
       "Austria          3\n",
       "Azerbaijan       1\n",
       "Bahrain          1\n",
       "Belgium          3\n",
       "Brazil           2\n",
       "Canada           3\n",
       "China            1\n",
       "France           7\n",
       "Germany          3\n",
       "Hungary          1\n",
       "India            1\n",
       "Italy            4\n",
       "Japan            3\n",
       "Korea            1\n",
       "Malaysia         1\n",
       "Mexico           1\n",
       "Monaco           1\n",
       "Morocco          1\n",
       "Netherlands      1\n",
       "Portugal         4\n",
       "Russia           1\n",
       "Singapore        1\n",
       "South Africa     2\n",
       "Spain            6\n",
       "Sweden           1\n",
       "Switzerland      1\n",
       "Turkey           1\n",
       "UAE              1\n",
       "UK               4\n",
       "USA             11\n",
       "Vietnam          1\n",
       "Name: circuitId, dtype: int64"
      ]
     },
     "execution_count": 24,
     "metadata": {},
     "output_type": "execute_result"
    }
   ],
   "source": [
    "country_with_most_circuits=df_circuits.groupby('country')['circuitId'].count()\n",
    "country_with_most_circuits"
   ]
  },
  {
   "cell_type": "code",
   "execution_count": 25,
   "metadata": {},
   "outputs": [
    {
     "data": {
      "text/plain": [
       "pandas.core.series.Series"
      ]
     },
     "execution_count": 25,
     "metadata": {},
     "output_type": "execute_result"
    }
   ],
   "source": [
    "type(country_with_most_circuits)"
   ]
  },
  {
   "cell_type": "code",
   "execution_count": 26,
   "metadata": {},
   "outputs": [],
   "source": [
    "country_with_most_circuits=pd.DataFrame(country_with_most_circuits)"
   ]
  },
  {
   "cell_type": "code",
   "execution_count": 27,
   "metadata": {},
   "outputs": [
    {
     "data": {
      "text/plain": [
       "pandas.core.frame.DataFrame"
      ]
     },
     "execution_count": 27,
     "metadata": {},
     "output_type": "execute_result"
    }
   ],
   "source": [
    "type(country_with_most_circuits)"
   ]
  },
  {
   "cell_type": "code",
   "execution_count": 30,
   "metadata": {},
   "outputs": [
    {
     "data": {
      "text/html": [
       "<div>\n",
       "<style scoped>\n",
       "    .dataframe tbody tr th:only-of-type {\n",
       "        vertical-align: middle;\n",
       "    }\n",
       "\n",
       "    .dataframe tbody tr th {\n",
       "        vertical-align: top;\n",
       "    }\n",
       "\n",
       "    .dataframe thead th {\n",
       "        text-align: right;\n",
       "    }\n",
       "</style>\n",
       "<table border=\"1\" class=\"dataframe\">\n",
       "  <thead>\n",
       "    <tr style=\"text-align: right;\">\n",
       "      <th></th>\n",
       "      <th>circuitId</th>\n",
       "    </tr>\n",
       "    <tr>\n",
       "      <th>country</th>\n",
       "      <th></th>\n",
       "    </tr>\n",
       "  </thead>\n",
       "  <tbody>\n",
       "    <tr>\n",
       "      <th>Argentina</th>\n",
       "      <td>1</td>\n",
       "    </tr>\n",
       "    <tr>\n",
       "      <th>Australia</th>\n",
       "      <td>2</td>\n",
       "    </tr>\n",
       "    <tr>\n",
       "      <th>Austria</th>\n",
       "      <td>3</td>\n",
       "    </tr>\n",
       "    <tr>\n",
       "      <th>Azerbaijan</th>\n",
       "      <td>1</td>\n",
       "    </tr>\n",
       "    <tr>\n",
       "      <th>Bahrain</th>\n",
       "      <td>1</td>\n",
       "    </tr>\n",
       "  </tbody>\n",
       "</table>\n",
       "</div>"
      ],
      "text/plain": [
       "            circuitId\n",
       "country              \n",
       "Argentina           1\n",
       "Australia           2\n",
       "Austria             3\n",
       "Azerbaijan          1\n",
       "Bahrain             1"
      ]
     },
     "execution_count": 30,
     "metadata": {},
     "output_type": "execute_result"
    }
   ],
   "source": [
    "country_with_most_circuits.head()"
   ]
  },
  {
   "cell_type": "code",
   "execution_count": 31,
   "metadata": {},
   "outputs": [],
   "source": [
    "country_with_most_circuits.sort_values(by='circuitId' ,ascending=False, inplace=True)"
   ]
  },
  {
   "cell_type": "code",
   "execution_count": 45,
   "metadata": {},
   "outputs": [
    {
     "data": {
      "text/html": [
       "<div>\n",
       "<style scoped>\n",
       "    .dataframe tbody tr th:only-of-type {\n",
       "        vertical-align: middle;\n",
       "    }\n",
       "\n",
       "    .dataframe tbody tr th {\n",
       "        vertical-align: top;\n",
       "    }\n",
       "\n",
       "    .dataframe thead th {\n",
       "        text-align: right;\n",
       "    }\n",
       "</style>\n",
       "<table border=\"1\" class=\"dataframe\">\n",
       "  <thead>\n",
       "    <tr style=\"text-align: right;\">\n",
       "      <th></th>\n",
       "      <th># of circuits</th>\n",
       "    </tr>\n",
       "    <tr>\n",
       "      <th>country</th>\n",
       "      <th></th>\n",
       "    </tr>\n",
       "  </thead>\n",
       "  <tbody>\n",
       "    <tr>\n",
       "      <th>USA</th>\n",
       "      <td>11</td>\n",
       "    </tr>\n",
       "    <tr>\n",
       "      <th>France</th>\n",
       "      <td>7</td>\n",
       "    </tr>\n",
       "    <tr>\n",
       "      <th>Spain</th>\n",
       "      <td>6</td>\n",
       "    </tr>\n",
       "    <tr>\n",
       "      <th>UK</th>\n",
       "      <td>4</td>\n",
       "    </tr>\n",
       "    <tr>\n",
       "      <th>Portugal</th>\n",
       "      <td>4</td>\n",
       "    </tr>\n",
       "  </tbody>\n",
       "</table>\n",
       "</div>"
      ],
      "text/plain": [
       "          # of circuits\n",
       "country                \n",
       "USA                  11\n",
       "France                7\n",
       "Spain                 6\n",
       "UK                    4\n",
       "Portugal              4"
      ]
     },
     "execution_count": 45,
     "metadata": {},
     "output_type": "execute_result"
    }
   ],
   "source": [
    "country_with_most_circuits.rename(columns={'circuitId':'# of circuits'}, inplace=True)\n",
    "country_with_most_circuits.head()"
   ]
  },
  {
   "cell_type": "markdown",
   "metadata": {},
   "source": [
    "### Plot a bar chart for top 10 rows from countries with most circuits"
   ]
  },
  {
   "cell_type": "code",
   "execution_count": 46,
   "metadata": {},
   "outputs": [
    {
     "data": {
      "text/plain": [
       "<matplotlib.axes._subplots.AxesSubplot at 0x1d6169bd6d0>"
      ]
     },
     "execution_count": 46,
     "metadata": {},
     "output_type": "execute_result"
    },
    {
     "data": {
      "image/png": "[encoded data removed]",
      "text/plain": [
       "<Figure size 1296x432 with 1 Axes>"
      ]
     },
     "metadata": {
      "needs_background": "light"
     },
     "output_type": "display_data"
    }
   ],
   "source": [
    "country_with_most_circuits.plot.bar(figsize=(18,6), color='coral')"
   ]
  },
  {
   "cell_type": "markdown",
   "metadata": {},
   "source": [
    "### Ploting a box plot to see if there are any outliers as USA seems like one."
   ]
  },
  {
   "cell_type": "code",
   "execution_count": 47,
   "metadata": {},
   "outputs": [
    {
     "data": {
      "text/plain": [
       "<matplotlib.axes._subplots.AxesSubplot at 0x1d617443730>"
      ]
     },
     "execution_count": 47,
     "metadata": {},
     "output_type": "execute_result"
    },
    {
     "data": {
      "image/png": "[encoded data removed]",
      "text/plain": [
       "<Figure size 1296x432 with 1 Axes>"
      ]
     },
     "metadata": {
      "needs_background": "light"
     },
     "output_type": "display_data"
    }
   ],
   "source": [
    "country_with_most_circuits.plot.box(figsize=(18,6))"
   ]
  },
  {
   "cell_type": "code",
   "execution_count": 48,
   "metadata": {},
   "outputs": [],
   "source": [
    "## Both France and USA are outliers in count of circuits"
   ]
  },
  {
   "cell_type": "code",
   "execution_count": 49,
   "metadata": {},
   "outputs": [
    {
     "data": {
      "text/html": [
       "<div>\n",
       "<style scoped>\n",
       "    .dataframe tbody tr th:only-of-type {\n",
       "        vertical-align: middle;\n",
       "    }\n",
       "\n",
       "    .dataframe tbody tr th {\n",
       "        vertical-align: top;\n",
       "    }\n",
       "\n",
       "    .dataframe thead th {\n",
       "        text-align: right;\n",
       "    }\n",
       "</style>\n",
       "<table border=\"1\" class=\"dataframe\">\n",
       "  <thead>\n",
       "    <tr style=\"text-align: right;\">\n",
       "      <th></th>\n",
       "      <th># of circuits</th>\n",
       "    </tr>\n",
       "  </thead>\n",
       "  <tbody>\n",
       "    <tr>\n",
       "      <th>count</th>\n",
       "      <td>33.000000</td>\n",
       "    </tr>\n",
       "    <tr>\n",
       "      <th>mean</th>\n",
       "      <td>2.303030</td>\n",
       "    </tr>\n",
       "    <tr>\n",
       "      <th>std</th>\n",
       "      <td>2.200637</td>\n",
       "    </tr>\n",
       "    <tr>\n",
       "      <th>min</th>\n",
       "      <td>1.000000</td>\n",
       "    </tr>\n",
       "    <tr>\n",
       "      <th>25%</th>\n",
       "      <td>1.000000</td>\n",
       "    </tr>\n",
       "    <tr>\n",
       "      <th>50%</th>\n",
       "      <td>1.000000</td>\n",
       "    </tr>\n",
       "    <tr>\n",
       "      <th>75%</th>\n",
       "      <td>3.000000</td>\n",
       "    </tr>\n",
       "    <tr>\n",
       "      <th>max</th>\n",
       "      <td>11.000000</td>\n",
       "    </tr>\n",
       "  </tbody>\n",
       "</table>\n",
       "</div>"
      ],
      "text/plain": [
       "       # of circuits\n",
       "count      33.000000\n",
       "mean        2.303030\n",
       "std         2.200637\n",
       "min         1.000000\n",
       "25%         1.000000\n",
       "50%         1.000000\n",
       "75%         3.000000\n",
       "max        11.000000"
      ]
     },
     "execution_count": 49,
     "metadata": {},
     "output_type": "execute_result"
    }
   ],
   "source": [
    "country_with_most_circuits.describe()"
   ]
  },
  {
   "cell_type": "code",
   "execution_count": 50,
   "metadata": {},
   "outputs": [
    {
     "data": {
      "text/plain": [
       "# of circuits    1.0\n",
       "dtype: float64"
      ]
     },
     "execution_count": 50,
     "metadata": {},
     "output_type": "execute_result"
    }
   ],
   "source": [
    "country_with_most_circuits.median()"
   ]
  },
  {
   "cell_type": "code",
   "execution_count": 51,
   "metadata": {},
   "outputs": [
    {
     "data": {
      "text/html": [
       "<div>\n",
       "<style scoped>\n",
       "    .dataframe tbody tr th:only-of-type {\n",
       "        vertical-align: middle;\n",
       "    }\n",
       "\n",
       "    .dataframe tbody tr th {\n",
       "        vertical-align: top;\n",
       "    }\n",
       "\n",
       "    .dataframe thead th {\n",
       "        text-align: right;\n",
       "    }\n",
       "</style>\n",
       "<table border=\"1\" class=\"dataframe\">\n",
       "  <thead>\n",
       "    <tr style=\"text-align: right;\">\n",
       "      <th></th>\n",
       "      <th># of circuits</th>\n",
       "    </tr>\n",
       "  </thead>\n",
       "  <tbody>\n",
       "    <tr>\n",
       "      <th>0</th>\n",
       "      <td>1</td>\n",
       "    </tr>\n",
       "  </tbody>\n",
       "</table>\n",
       "</div>"
      ],
      "text/plain": [
       "   # of circuits\n",
       "0              1"
      ]
     },
     "execution_count": 51,
     "metadata": {},
     "output_type": "execute_result"
    }
   ],
   "source": [
    "country_with_most_circuits.mode()"
   ]
  },
  {
   "cell_type": "code",
   "execution_count": 53,
   "metadata": {},
   "outputs": [
    {
     "data": {
      "text/plain": [
       "(33, 1)"
      ]
     },
     "execution_count": 53,
     "metadata": {},
     "output_type": "execute_result"
    }
   ],
   "source": [
    "country_with_most_circuits.shape"
   ]
  },
  {
   "cell_type": "code",
   "execution_count": 54,
   "metadata": {},
   "outputs": [],
   "source": [
    "# F1 circuits are available in 33 countries"
   ]
  },
  {
   "cell_type": "code",
   "execution_count": 56,
   "metadata": {},
   "outputs": [
    {
     "name": "stdout",
     "output_type": "stream",
     "text": [
      "                                    name      location\n",
      "0         Albert Park Grand Prix Circuit     Melbourne\n",
      "1           Sepang International Circuit  Kuala Lumpur\n",
      "2          Bahrain International Circuit        Sakhir\n",
      "3         Circuit de Barcelona-Catalunya      Montmeló\n",
      "4                          Istanbul Park      Istanbul\n",
      "..                                   ...           ...\n",
      "71          Port Imperial Street Circuit    New Jersey\n",
      "72                     Baku City Circuit          Baku\n",
      "73                  Hanoi Street Circuit         Hanoi\n",
      "74    Autódromo Internacional do Algarve      Portimão\n",
      "75  Autodromo Internazionale del Mugello       Mugello\n",
      "\n",
      "[76 rows x 2 columns]\n"
     ]
    }
   ],
   "source": [
    "print(df_circuits[['name','location']])"
   ]
  },
  {
   "cell_type": "markdown",
   "metadata": {},
   "source": [
    "### Name of all the circuits in America"
   ]
  },
  {
   "cell_type": "code",
   "execution_count": 59,
   "metadata": {},
   "outputs": [
    {
     "data": {
      "text/plain": [
       "0     False\n",
       "1     False\n",
       "2     False\n",
       "3     False\n",
       "4     False\n",
       "      ...  \n",
       "71     True\n",
       "72    False\n",
       "73    False\n",
       "74    False\n",
       "75    False\n",
       "Name: country, Length: 76, dtype: bool"
      ]
     },
     "execution_count": 59,
     "metadata": {},
     "output_type": "execute_result"
    }
   ],
   "source": [
    "american_circuits=df_circuits['country']=='USA'\n",
    "american_circuits"
   ]
  },
  {
   "cell_type": "code",
   "execution_count": 61,
   "metadata": {},
   "outputs": [
    {
     "data": {
      "text/html": [
       "<div>\n",
       "<style scoped>\n",
       "    .dataframe tbody tr th:only-of-type {\n",
       "        vertical-align: middle;\n",
       "    }\n",
       "\n",
       "    .dataframe tbody tr th {\n",
       "        vertical-align: top;\n",
       "    }\n",
       "\n",
       "    .dataframe thead th {\n",
       "        text-align: right;\n",
       "    }\n",
       "</style>\n",
       "<table border=\"1\" class=\"dataframe\">\n",
       "  <thead>\n",
       "    <tr style=\"text-align: right;\">\n",
       "      <th></th>\n",
       "      <th>name</th>\n",
       "      <th>location</th>\n",
       "      <th>country</th>\n",
       "    </tr>\n",
       "  </thead>\n",
       "  <tbody>\n",
       "    <tr>\n",
       "      <th>18</th>\n",
       "      <td>Indianapolis Motor Speedway</td>\n",
       "      <td>Indianapolis</td>\n",
       "      <td>USA</td>\n",
       "    </tr>\n",
       "    <tr>\n",
       "      <th>32</th>\n",
       "      <td>Phoenix street circuit</td>\n",
       "      <td>Phoenix</td>\n",
       "      <td>USA</td>\n",
       "    </tr>\n",
       "    <tr>\n",
       "      <th>36</th>\n",
       "      <td>Detroit Street Circuit</td>\n",
       "      <td>Detroit</td>\n",
       "      <td>USA</td>\n",
       "    </tr>\n",
       "    <tr>\n",
       "      <th>41</th>\n",
       "      <td>Fair Park</td>\n",
       "      <td>Dallas</td>\n",
       "      <td>USA</td>\n",
       "    </tr>\n",
       "    <tr>\n",
       "      <th>42</th>\n",
       "      <td>Long Beach</td>\n",
       "      <td>California</td>\n",
       "      <td>USA</td>\n",
       "    </tr>\n",
       "    <tr>\n",
       "      <th>43</th>\n",
       "      <td>Las Vegas Street Circuit</td>\n",
       "      <td>Nevada</td>\n",
       "      <td>USA</td>\n",
       "    </tr>\n",
       "    <tr>\n",
       "      <th>45</th>\n",
       "      <td>Watkins Glen</td>\n",
       "      <td>New York State</td>\n",
       "      <td>USA</td>\n",
       "    </tr>\n",
       "    <tr>\n",
       "      <th>59</th>\n",
       "      <td>Riverside International Raceway</td>\n",
       "      <td>California</td>\n",
       "      <td>USA</td>\n",
       "    </tr>\n",
       "    <tr>\n",
       "      <th>62</th>\n",
       "      <td>Sebring International Raceway</td>\n",
       "      <td>Florida</td>\n",
       "      <td>USA</td>\n",
       "    </tr>\n",
       "    <tr>\n",
       "      <th>68</th>\n",
       "      <td>Circuit of the Americas</td>\n",
       "      <td>Austin</td>\n",
       "      <td>USA</td>\n",
       "    </tr>\n",
       "    <tr>\n",
       "      <th>71</th>\n",
       "      <td>Port Imperial Street Circuit</td>\n",
       "      <td>New Jersey</td>\n",
       "      <td>USA</td>\n",
       "    </tr>\n",
       "  </tbody>\n",
       "</table>\n",
       "</div>"
      ],
      "text/plain": [
       "                               name        location country\n",
       "18      Indianapolis Motor Speedway    Indianapolis     USA\n",
       "32           Phoenix street circuit         Phoenix     USA\n",
       "36           Detroit Street Circuit         Detroit     USA\n",
       "41                        Fair Park          Dallas     USA\n",
       "42                       Long Beach      California     USA\n",
       "43         Las Vegas Street Circuit          Nevada     USA\n",
       "45                     Watkins Glen  New York State     USA\n",
       "59  Riverside International Raceway      California     USA\n",
       "62    Sebring International Raceway         Florida     USA\n",
       "68          Circuit of the Americas          Austin     USA\n",
       "71     Port Imperial Street Circuit      New Jersey     USA"
      ]
     },
     "execution_count": 61,
     "metadata": {},
     "output_type": "execute_result"
    }
   ],
   "source": [
    "df_circuits[['name','location','country']].loc[american_circuits]"
   ]
  },
  {
   "cell_type": "markdown",
   "metadata": {},
   "source": [
    "# F1 Drivers"
   ]
  },
  {
   "cell_type": "code",
   "execution_count": 33,
   "metadata": {},
   "outputs": [
    {
     "data": {
      "text/html": [
       "<div>\n",
       "<style scoped>\n",
       "    .dataframe tbody tr th:only-of-type {\n",
       "        vertical-align: middle;\n",
       "    }\n",
       "\n",
       "    .dataframe tbody tr th {\n",
       "        vertical-align: top;\n",
       "    }\n",
       "\n",
       "    .dataframe thead th {\n",
       "        text-align: right;\n",
       "    }\n",
       "</style>\n",
       "<table border=\"1\" class=\"dataframe\">\n",
       "  <thead>\n",
       "    <tr style=\"text-align: right;\">\n",
       "      <th></th>\n",
       "      <th>driverId</th>\n",
       "      <th>driverRef</th>\n",
       "      <th>number</th>\n",
       "      <th>code</th>\n",
       "      <th>forename</th>\n",
       "      <th>surname</th>\n",
       "      <th>dob</th>\n",
       "      <th>nationality</th>\n",
       "      <th>url</th>\n",
       "    </tr>\n",
       "  </thead>\n",
       "  <tbody>\n",
       "    <tr>\n",
       "      <th>0</th>\n",
       "      <td>1</td>\n",
       "      <td>hamilton</td>\n",
       "      <td>44</td>\n",
       "      <td>HAM</td>\n",
       "      <td>Lewis</td>\n",
       "      <td>Hamilton</td>\n",
       "      <td>1985-01-07</td>\n",
       "      <td>British</td>\n",
       "      <td>http://en.wikipedia.org/wiki/Lewis_Hamilton</td>\n",
       "    </tr>\n",
       "    <tr>\n",
       "      <th>1</th>\n",
       "      <td>2</td>\n",
       "      <td>heidfeld</td>\n",
       "      <td>\\N</td>\n",
       "      <td>HEI</td>\n",
       "      <td>Nick</td>\n",
       "      <td>Heidfeld</td>\n",
       "      <td>1977-05-10</td>\n",
       "      <td>German</td>\n",
       "      <td>http://en.wikipedia.org/wiki/Nick_Heidfeld</td>\n",
       "    </tr>\n",
       "    <tr>\n",
       "      <th>2</th>\n",
       "      <td>3</td>\n",
       "      <td>rosberg</td>\n",
       "      <td>6</td>\n",
       "      <td>ROS</td>\n",
       "      <td>Nico</td>\n",
       "      <td>Rosberg</td>\n",
       "      <td>1985-06-27</td>\n",
       "      <td>German</td>\n",
       "      <td>http://en.wikipedia.org/wiki/Nico_Rosberg</td>\n",
       "    </tr>\n",
       "    <tr>\n",
       "      <th>3</th>\n",
       "      <td>4</td>\n",
       "      <td>alonso</td>\n",
       "      <td>14</td>\n",
       "      <td>ALO</td>\n",
       "      <td>Fernando</td>\n",
       "      <td>Alonso</td>\n",
       "      <td>1981-07-29</td>\n",
       "      <td>Spanish</td>\n",
       "      <td>http://en.wikipedia.org/wiki/Fernando_Alonso</td>\n",
       "    </tr>\n",
       "    <tr>\n",
       "      <th>4</th>\n",
       "      <td>5</td>\n",
       "      <td>kovalainen</td>\n",
       "      <td>\\N</td>\n",
       "      <td>KOV</td>\n",
       "      <td>Heikki</td>\n",
       "      <td>Kovalainen</td>\n",
       "      <td>1981-10-19</td>\n",
       "      <td>Finnish</td>\n",
       "      <td>http://en.wikipedia.org/wiki/Heikki_Kovalainen</td>\n",
       "    </tr>\n",
       "  </tbody>\n",
       "</table>\n",
       "</div>"
      ],
      "text/plain": [
       "   driverId   driverRef number code  forename     surname         dob  \\\n",
       "0         1    hamilton     44  HAM     Lewis    Hamilton  1985-01-07   \n",
       "1         2    heidfeld     \\N  HEI      Nick    Heidfeld  1977-05-10   \n",
       "2         3     rosberg      6  ROS      Nico     Rosberg  1985-06-27   \n",
       "3         4      alonso     14  ALO  Fernando      Alonso  1981-07-29   \n",
       "4         5  kovalainen     \\N  KOV    Heikki  Kovalainen  1981-10-19   \n",
       "\n",
       "  nationality                                             url  \n",
       "0     British     http://en.wikipedia.org/wiki/Lewis_Hamilton  \n",
       "1      German      http://en.wikipedia.org/wiki/Nick_Heidfeld  \n",
       "2      German       http://en.wikipedia.org/wiki/Nico_Rosberg  \n",
       "3     Spanish    http://en.wikipedia.org/wiki/Fernando_Alonso  \n",
       "4     Finnish  http://en.wikipedia.org/wiki/Heikki_Kovalainen  "
      ]
     },
     "execution_count": 33,
     "metadata": {},
     "output_type": "execute_result"
    }
   ],
   "source": [
    "import pandas as pd\n",
    "df_drivers=pd.read_csv(\"../Data/Formula 1 World Championship (1950 - 2020)/drivers.csv\")\n",
    "df_drivers.head()"
   ]
  },
  {
   "cell_type": "code",
   "execution_count": 34,
   "metadata": {},
   "outputs": [],
   "source": [
    "# Adding a column for birth year\n",
    "df_drivers['birth_year']=pd.DatetimeIndex(df_drivers['dob']).year"
   ]
  },
  {
   "cell_type": "code",
   "execution_count": 35,
   "metadata": {},
   "outputs": [
    {
     "data": {
      "text/html": [
       "<div>\n",
       "<style scoped>\n",
       "    .dataframe tbody tr th:only-of-type {\n",
       "        vertical-align: middle;\n",
       "    }\n",
       "\n",
       "    .dataframe tbody tr th {\n",
       "        vertical-align: top;\n",
       "    }\n",
       "\n",
       "    .dataframe thead th {\n",
       "        text-align: right;\n",
       "    }\n",
       "</style>\n",
       "<table border=\"1\" class=\"dataframe\">\n",
       "  <thead>\n",
       "    <tr style=\"text-align: right;\">\n",
       "      <th></th>\n",
       "      <th>driverId</th>\n",
       "      <th>driverRef</th>\n",
       "      <th>number</th>\n",
       "      <th>code</th>\n",
       "      <th>forename</th>\n",
       "      <th>surname</th>\n",
       "      <th>dob</th>\n",
       "      <th>nationality</th>\n",
       "      <th>url</th>\n",
       "      <th>birth_year</th>\n",
       "    </tr>\n",
       "  </thead>\n",
       "  <tbody>\n",
       "    <tr>\n",
       "      <th>0</th>\n",
       "      <td>1</td>\n",
       "      <td>hamilton</td>\n",
       "      <td>44</td>\n",
       "      <td>HAM</td>\n",
       "      <td>Lewis</td>\n",
       "      <td>Hamilton</td>\n",
       "      <td>1985-01-07</td>\n",
       "      <td>British</td>\n",
       "      <td>http://en.wikipedia.org/wiki/Lewis_Hamilton</td>\n",
       "      <td>1985</td>\n",
       "    </tr>\n",
       "    <tr>\n",
       "      <th>1</th>\n",
       "      <td>2</td>\n",
       "      <td>heidfeld</td>\n",
       "      <td>\\N</td>\n",
       "      <td>HEI</td>\n",
       "      <td>Nick</td>\n",
       "      <td>Heidfeld</td>\n",
       "      <td>1977-05-10</td>\n",
       "      <td>German</td>\n",
       "      <td>http://en.wikipedia.org/wiki/Nick_Heidfeld</td>\n",
       "      <td>1977</td>\n",
       "    </tr>\n",
       "    <tr>\n",
       "      <th>2</th>\n",
       "      <td>3</td>\n",
       "      <td>rosberg</td>\n",
       "      <td>6</td>\n",
       "      <td>ROS</td>\n",
       "      <td>Nico</td>\n",
       "      <td>Rosberg</td>\n",
       "      <td>1985-06-27</td>\n",
       "      <td>German</td>\n",
       "      <td>http://en.wikipedia.org/wiki/Nico_Rosberg</td>\n",
       "      <td>1985</td>\n",
       "    </tr>\n",
       "    <tr>\n",
       "      <th>3</th>\n",
       "      <td>4</td>\n",
       "      <td>alonso</td>\n",
       "      <td>14</td>\n",
       "      <td>ALO</td>\n",
       "      <td>Fernando</td>\n",
       "      <td>Alonso</td>\n",
       "      <td>1981-07-29</td>\n",
       "      <td>Spanish</td>\n",
       "      <td>http://en.wikipedia.org/wiki/Fernando_Alonso</td>\n",
       "      <td>1981</td>\n",
       "    </tr>\n",
       "    <tr>\n",
       "      <th>4</th>\n",
       "      <td>5</td>\n",
       "      <td>kovalainen</td>\n",
       "      <td>\\N</td>\n",
       "      <td>KOV</td>\n",
       "      <td>Heikki</td>\n",
       "      <td>Kovalainen</td>\n",
       "      <td>1981-10-19</td>\n",
       "      <td>Finnish</td>\n",
       "      <td>http://en.wikipedia.org/wiki/Heikki_Kovalainen</td>\n",
       "      <td>1981</td>\n",
       "    </tr>\n",
       "  </tbody>\n",
       "</table>\n",
       "</div>"
      ],
      "text/plain": [
       "   driverId   driverRef number code  forename     surname         dob  \\\n",
       "0         1    hamilton     44  HAM     Lewis    Hamilton  1985-01-07   \n",
       "1         2    heidfeld     \\N  HEI      Nick    Heidfeld  1977-05-10   \n",
       "2         3     rosberg      6  ROS      Nico     Rosberg  1985-06-27   \n",
       "3         4      alonso     14  ALO  Fernando      Alonso  1981-07-29   \n",
       "4         5  kovalainen     \\N  KOV    Heikki  Kovalainen  1981-10-19   \n",
       "\n",
       "  nationality                                             url  birth_year  \n",
       "0     British     http://en.wikipedia.org/wiki/Lewis_Hamilton        1985  \n",
       "1      German      http://en.wikipedia.org/wiki/Nick_Heidfeld        1977  \n",
       "2      German       http://en.wikipedia.org/wiki/Nico_Rosberg        1985  \n",
       "3     Spanish    http://en.wikipedia.org/wiki/Fernando_Alonso        1981  \n",
       "4     Finnish  http://en.wikipedia.org/wiki/Heikki_Kovalainen        1981  "
      ]
     },
     "execution_count": 35,
     "metadata": {},
     "output_type": "execute_result"
    }
   ],
   "source": [
    "df_drivers.head()"
   ]
  },
  {
   "cell_type": "code",
   "execution_count": 36,
   "metadata": {},
   "outputs": [],
   "source": [
    "from datetime import date"
   ]
  },
  {
   "cell_type": "code",
   "execution_count": 37,
   "metadata": {},
   "outputs": [
    {
     "data": {
      "text/html": [
       "<div>\n",
       "<style scoped>\n",
       "    .dataframe tbody tr th:only-of-type {\n",
       "        vertical-align: middle;\n",
       "    }\n",
       "\n",
       "    .dataframe tbody tr th {\n",
       "        vertical-align: top;\n",
       "    }\n",
       "\n",
       "    .dataframe thead th {\n",
       "        text-align: right;\n",
       "    }\n",
       "</style>\n",
       "<table border=\"1\" class=\"dataframe\">\n",
       "  <thead>\n",
       "    <tr style=\"text-align: right;\">\n",
       "      <th></th>\n",
       "      <th>driverId</th>\n",
       "      <th>driverRef</th>\n",
       "      <th>number</th>\n",
       "      <th>code</th>\n",
       "      <th>forename</th>\n",
       "      <th>surname</th>\n",
       "      <th>dob</th>\n",
       "      <th>nationality</th>\n",
       "      <th>url</th>\n",
       "      <th>birth_year</th>\n",
       "      <th>age</th>\n",
       "    </tr>\n",
       "  </thead>\n",
       "  <tbody>\n",
       "    <tr>\n",
       "      <th>0</th>\n",
       "      <td>1</td>\n",
       "      <td>hamilton</td>\n",
       "      <td>44</td>\n",
       "      <td>HAM</td>\n",
       "      <td>Lewis</td>\n",
       "      <td>Hamilton</td>\n",
       "      <td>1985-01-07</td>\n",
       "      <td>British</td>\n",
       "      <td>http://en.wikipedia.org/wiki/Lewis_Hamilton</td>\n",
       "      <td>1985</td>\n",
       "      <td>35</td>\n",
       "    </tr>\n",
       "    <tr>\n",
       "      <th>1</th>\n",
       "      <td>2</td>\n",
       "      <td>heidfeld</td>\n",
       "      <td>\\N</td>\n",
       "      <td>HEI</td>\n",
       "      <td>Nick</td>\n",
       "      <td>Heidfeld</td>\n",
       "      <td>1977-05-10</td>\n",
       "      <td>German</td>\n",
       "      <td>http://en.wikipedia.org/wiki/Nick_Heidfeld</td>\n",
       "      <td>1977</td>\n",
       "      <td>43</td>\n",
       "    </tr>\n",
       "    <tr>\n",
       "      <th>2</th>\n",
       "      <td>3</td>\n",
       "      <td>rosberg</td>\n",
       "      <td>6</td>\n",
       "      <td>ROS</td>\n",
       "      <td>Nico</td>\n",
       "      <td>Rosberg</td>\n",
       "      <td>1985-06-27</td>\n",
       "      <td>German</td>\n",
       "      <td>http://en.wikipedia.org/wiki/Nico_Rosberg</td>\n",
       "      <td>1985</td>\n",
       "      <td>35</td>\n",
       "    </tr>\n",
       "    <tr>\n",
       "      <th>3</th>\n",
       "      <td>4</td>\n",
       "      <td>alonso</td>\n",
       "      <td>14</td>\n",
       "      <td>ALO</td>\n",
       "      <td>Fernando</td>\n",
       "      <td>Alonso</td>\n",
       "      <td>1981-07-29</td>\n",
       "      <td>Spanish</td>\n",
       "      <td>http://en.wikipedia.org/wiki/Fernando_Alonso</td>\n",
       "      <td>1981</td>\n",
       "      <td>39</td>\n",
       "    </tr>\n",
       "    <tr>\n",
       "      <th>4</th>\n",
       "      <td>5</td>\n",
       "      <td>kovalainen</td>\n",
       "      <td>\\N</td>\n",
       "      <td>KOV</td>\n",
       "      <td>Heikki</td>\n",
       "      <td>Kovalainen</td>\n",
       "      <td>1981-10-19</td>\n",
       "      <td>Finnish</td>\n",
       "      <td>http://en.wikipedia.org/wiki/Heikki_Kovalainen</td>\n",
       "      <td>1981</td>\n",
       "      <td>39</td>\n",
       "    </tr>\n",
       "  </tbody>\n",
       "</table>\n",
       "</div>"
      ],
      "text/plain": [
       "   driverId   driverRef number code  forename     surname         dob  \\\n",
       "0         1    hamilton     44  HAM     Lewis    Hamilton  1985-01-07   \n",
       "1         2    heidfeld     \\N  HEI      Nick    Heidfeld  1977-05-10   \n",
       "2         3     rosberg      6  ROS      Nico     Rosberg  1985-06-27   \n",
       "3         4      alonso     14  ALO  Fernando      Alonso  1981-07-29   \n",
       "4         5  kovalainen     \\N  KOV    Heikki  Kovalainen  1981-10-19   \n",
       "\n",
       "  nationality                                             url  birth_year  age  \n",
       "0     British     http://en.wikipedia.org/wiki/Lewis_Hamilton        1985   35  \n",
       "1      German      http://en.wikipedia.org/wiki/Nick_Heidfeld        1977   43  \n",
       "2      German       http://en.wikipedia.org/wiki/Nico_Rosberg        1985   35  \n",
       "3     Spanish    http://en.wikipedia.org/wiki/Fernando_Alonso        1981   39  \n",
       "4     Finnish  http://en.wikipedia.org/wiki/Heikki_Kovalainen        1981   39  "
      ]
     },
     "execution_count": 37,
     "metadata": {},
     "output_type": "execute_result"
    }
   ],
   "source": [
    "### Age of each driver\n",
    "df_drivers['age']=date.today().year-df_drivers['birth_year']\n",
    "df_drivers.head()"
   ]
  },
  {
   "cell_type": "code",
   "execution_count": 40,
   "metadata": {},
   "outputs": [],
   "source": [
    "# dropping url, we don't need url for any sort of analysis\n",
    "df_drivers.drop(columns='url', inplace=True)"
   ]
  },
  {
   "cell_type": "code",
   "execution_count": 41,
   "metadata": {},
   "outputs": [
    {
     "data": {
      "text/html": [
       "<div>\n",
       "<style scoped>\n",
       "    .dataframe tbody tr th:only-of-type {\n",
       "        vertical-align: middle;\n",
       "    }\n",
       "\n",
       "    .dataframe tbody tr th {\n",
       "        vertical-align: top;\n",
       "    }\n",
       "\n",
       "    .dataframe thead th {\n",
       "        text-align: right;\n",
       "    }\n",
       "</style>\n",
       "<table border=\"1\" class=\"dataframe\">\n",
       "  <thead>\n",
       "    <tr style=\"text-align: right;\">\n",
       "      <th></th>\n",
       "      <th>driverId</th>\n",
       "      <th>driverRef</th>\n",
       "      <th>number</th>\n",
       "      <th>code</th>\n",
       "      <th>forename</th>\n",
       "      <th>surname</th>\n",
       "      <th>dob</th>\n",
       "      <th>nationality</th>\n",
       "      <th>birth_year</th>\n",
       "      <th>age</th>\n",
       "    </tr>\n",
       "  </thead>\n",
       "  <tbody>\n",
       "    <tr>\n",
       "      <th>0</th>\n",
       "      <td>1</td>\n",
       "      <td>hamilton</td>\n",
       "      <td>44</td>\n",
       "      <td>HAM</td>\n",
       "      <td>Lewis</td>\n",
       "      <td>Hamilton</td>\n",
       "      <td>1985-01-07</td>\n",
       "      <td>British</td>\n",
       "      <td>1985</td>\n",
       "      <td>35</td>\n",
       "    </tr>\n",
       "    <tr>\n",
       "      <th>1</th>\n",
       "      <td>2</td>\n",
       "      <td>heidfeld</td>\n",
       "      <td>\\N</td>\n",
       "      <td>HEI</td>\n",
       "      <td>Nick</td>\n",
       "      <td>Heidfeld</td>\n",
       "      <td>1977-05-10</td>\n",
       "      <td>German</td>\n",
       "      <td>1977</td>\n",
       "      <td>43</td>\n",
       "    </tr>\n",
       "    <tr>\n",
       "      <th>2</th>\n",
       "      <td>3</td>\n",
       "      <td>rosberg</td>\n",
       "      <td>6</td>\n",
       "      <td>ROS</td>\n",
       "      <td>Nico</td>\n",
       "      <td>Rosberg</td>\n",
       "      <td>1985-06-27</td>\n",
       "      <td>German</td>\n",
       "      <td>1985</td>\n",
       "      <td>35</td>\n",
       "    </tr>\n",
       "    <tr>\n",
       "      <th>3</th>\n",
       "      <td>4</td>\n",
       "      <td>alonso</td>\n",
       "      <td>14</td>\n",
       "      <td>ALO</td>\n",
       "      <td>Fernando</td>\n",
       "      <td>Alonso</td>\n",
       "      <td>1981-07-29</td>\n",
       "      <td>Spanish</td>\n",
       "      <td>1981</td>\n",
       "      <td>39</td>\n",
       "    </tr>\n",
       "    <tr>\n",
       "      <th>4</th>\n",
       "      <td>5</td>\n",
       "      <td>kovalainen</td>\n",
       "      <td>\\N</td>\n",
       "      <td>KOV</td>\n",
       "      <td>Heikki</td>\n",
       "      <td>Kovalainen</td>\n",
       "      <td>1981-10-19</td>\n",
       "      <td>Finnish</td>\n",
       "      <td>1981</td>\n",
       "      <td>39</td>\n",
       "    </tr>\n",
       "  </tbody>\n",
       "</table>\n",
       "</div>"
      ],
      "text/plain": [
       "   driverId   driverRef number code  forename     surname         dob  \\\n",
       "0         1    hamilton     44  HAM     Lewis    Hamilton  1985-01-07   \n",
       "1         2    heidfeld     \\N  HEI      Nick    Heidfeld  1977-05-10   \n",
       "2         3     rosberg      6  ROS      Nico     Rosberg  1985-06-27   \n",
       "3         4      alonso     14  ALO  Fernando      Alonso  1981-07-29   \n",
       "4         5  kovalainen     \\N  KOV    Heikki  Kovalainen  1981-10-19   \n",
       "\n",
       "  nationality  birth_year  age  \n",
       "0     British        1985   35  \n",
       "1      German        1977   43  \n",
       "2      German        1985   35  \n",
       "3     Spanish        1981   39  \n",
       "4     Finnish        1981   39  "
      ]
     },
     "execution_count": 41,
     "metadata": {},
     "output_type": "execute_result"
    }
   ],
   "source": [
    "df_drivers.head()"
   ]
  },
  {
   "cell_type": "markdown",
   "metadata": {},
   "source": [
    "### Line chart of drivers born each year"
   ]
  },
  {
   "cell_type": "code",
   "execution_count": 43,
   "metadata": {},
   "outputs": [
    {
     "data": {
      "text/html": [
       "<div>\n",
       "<style scoped>\n",
       "    .dataframe tbody tr th:only-of-type {\n",
       "        vertical-align: middle;\n",
       "    }\n",
       "\n",
       "    .dataframe tbody tr th {\n",
       "        vertical-align: top;\n",
       "    }\n",
       "\n",
       "    .dataframe thead th {\n",
       "        text-align: right;\n",
       "    }\n",
       "</style>\n",
       "<table border=\"1\" class=\"dataframe\">\n",
       "  <thead>\n",
       "    <tr style=\"text-align: right;\">\n",
       "      <th></th>\n",
       "      <th>driverId</th>\n",
       "      <th>driverRef</th>\n",
       "      <th>number</th>\n",
       "      <th>code</th>\n",
       "      <th>forename</th>\n",
       "      <th>surname</th>\n",
       "      <th>dob</th>\n",
       "      <th>nationality</th>\n",
       "      <th>birth_year</th>\n",
       "      <th>age</th>\n",
       "    </tr>\n",
       "  </thead>\n",
       "  <tbody>\n",
       "    <tr>\n",
       "      <th>741</th>\n",
       "      <td>741</td>\n",
       "      <td>etancelin</td>\n",
       "      <td>\\N</td>\n",
       "      <td>\\N</td>\n",
       "      <td>Philippe</td>\n",
       "      <td>Étancelin</td>\n",
       "      <td>1896-12-28</td>\n",
       "      <td>French</td>\n",
       "      <td>1896</td>\n",
       "      <td>124</td>\n",
       "    </tr>\n",
       "    <tr>\n",
       "      <th>703</th>\n",
       "      <td>703</td>\n",
       "      <td>legat</td>\n",
       "      <td>\\N</td>\n",
       "      <td>\\N</td>\n",
       "      <td>Arthur</td>\n",
       "      <td>Legat</td>\n",
       "      <td>1898-11-01</td>\n",
       "      <td>Belgian</td>\n",
       "      <td>1898</td>\n",
       "      <td>122</td>\n",
       "    </tr>\n",
       "    <tr>\n",
       "      <th>786</th>\n",
       "      <td>786</td>\n",
       "      <td>fagioli</td>\n",
       "      <td>\\N</td>\n",
       "      <td>\\N</td>\n",
       "      <td>Luigi</td>\n",
       "      <td>Fagioli</td>\n",
       "      <td>1898-06-09</td>\n",
       "      <td>Italian</td>\n",
       "      <td>1898</td>\n",
       "      <td>122</td>\n",
       "    </tr>\n",
       "    <tr>\n",
       "      <th>791</th>\n",
       "      <td>791</td>\n",
       "      <td>biondetti</td>\n",
       "      <td>\\N</td>\n",
       "      <td>\\N</td>\n",
       "      <td>Clemente</td>\n",
       "      <td>Biondetti</td>\n",
       "      <td>1898-08-18</td>\n",
       "      <td>Italian</td>\n",
       "      <td>1898</td>\n",
       "      <td>122</td>\n",
       "    </tr>\n",
       "    <tr>\n",
       "      <th>760</th>\n",
       "      <td>760</td>\n",
       "      <td>dusio</td>\n",
       "      <td>\\N</td>\n",
       "      <td>\\N</td>\n",
       "      <td>Piero</td>\n",
       "      <td>Dusio</td>\n",
       "      <td>1899-10-13</td>\n",
       "      <td>Italian</td>\n",
       "      <td>1899</td>\n",
       "      <td>121</td>\n",
       "    </tr>\n",
       "  </tbody>\n",
       "</table>\n",
       "</div>"
      ],
      "text/plain": [
       "     driverId  driverRef number code  forename    surname         dob  \\\n",
       "741       741  etancelin     \\N   \\N  Philippe  Étancelin  1896-12-28   \n",
       "703       703      legat     \\N   \\N    Arthur      Legat  1898-11-01   \n",
       "786       786    fagioli     \\N   \\N     Luigi    Fagioli  1898-06-09   \n",
       "791       791  biondetti     \\N   \\N  Clemente  Biondetti  1898-08-18   \n",
       "760       760      dusio     \\N   \\N     Piero      Dusio  1899-10-13   \n",
       "\n",
       "    nationality  birth_year  age  \n",
       "741      French        1896  124  \n",
       "703     Belgian        1898  122  \n",
       "786     Italian        1898  122  \n",
       "791     Italian        1898  122  \n",
       "760     Italian        1899  121  "
      ]
     },
     "execution_count": 43,
     "metadata": {},
     "output_type": "execute_result"
    }
   ],
   "source": [
    "# sorting drivers based on the birth year\n",
    "df_drivers.sort_values(by='birth_year', ascending=True, inplace=True)\n",
    "df_drivers.head()"
   ]
  },
  {
   "cell_type": "markdown",
   "metadata": {},
   "source": [
    "#### The calculation of age does not display correct data, since we don't have a death year"
   ]
  },
  {
   "cell_type": "code",
   "execution_count": 53,
   "metadata": {},
   "outputs": [],
   "source": [
    "drivers_line=df_drivers.groupby('birth_year')['driverId'].count()"
   ]
  },
  {
   "cell_type": "code",
   "execution_count": 57,
   "metadata": {},
   "outputs": [
    {
     "data": {
      "text/html": [
       "<div>\n",
       "<style scoped>\n",
       "    .dataframe tbody tr th:only-of-type {\n",
       "        vertical-align: middle;\n",
       "    }\n",
       "\n",
       "    .dataframe tbody tr th {\n",
       "        vertical-align: top;\n",
       "    }\n",
       "\n",
       "    .dataframe thead th {\n",
       "        text-align: right;\n",
       "    }\n",
       "</style>\n",
       "<table border=\"1\" class=\"dataframe\">\n",
       "  <thead>\n",
       "    <tr style=\"text-align: right;\">\n",
       "      <th></th>\n",
       "      <th># of drivers</th>\n",
       "    </tr>\n",
       "    <tr>\n",
       "      <th>birth_year</th>\n",
       "      <th></th>\n",
       "    </tr>\n",
       "  </thead>\n",
       "  <tbody>\n",
       "    <tr>\n",
       "      <th>1896</th>\n",
       "      <td>1</td>\n",
       "    </tr>\n",
       "    <tr>\n",
       "      <th>1898</th>\n",
       "      <td>3</td>\n",
       "    </tr>\n",
       "    <tr>\n",
       "      <th>1899</th>\n",
       "      <td>3</td>\n",
       "    </tr>\n",
       "    <tr>\n",
       "      <th>1900</th>\n",
       "      <td>2</td>\n",
       "    </tr>\n",
       "    <tr>\n",
       "      <th>1902</th>\n",
       "      <td>2</td>\n",
       "    </tr>\n",
       "  </tbody>\n",
       "</table>\n",
       "</div>"
      ],
      "text/plain": [
       "            # of drivers\n",
       "birth_year              \n",
       "1896                   1\n",
       "1898                   3\n",
       "1899                   3\n",
       "1900                   2\n",
       "1902                   2"
      ]
     },
     "execution_count": 57,
     "metadata": {},
     "output_type": "execute_result"
    }
   ],
   "source": [
    "drivers_line=pd.DataFrame(drivers_line)\n",
    "drivers_line.rename(columns={'driverId':'# of drivers'}, inplace=True)\n",
    "drivers_line.head()"
   ]
  },
  {
   "cell_type": "code",
   "execution_count": 62,
   "metadata": {},
   "outputs": [
    {
     "data": {
      "text/plain": [
       "<matplotlib.axes._subplots.AxesSubplot at 0x25d7461a1f0>"
      ]
     },
     "execution_count": 62,
     "metadata": {},
     "output_type": "execute_result"
    },
    {
     "data": {
      "image/png": "[encoded data removed]",
      "text/plain": [
       "<Figure size 1296x432 with 1 Axes>"
      ]
     },
     "metadata": {
      "needs_background": "light"
     },
     "output_type": "display_data"
    }
   ],
   "source": [
    "# plotting a running line chart\n",
    "drivers_line.cumsum().plot.line(figsize=(18,6), grid=True)"
   ]
  },
  {
   "cell_type": "markdown",
   "metadata": {},
   "source": [
    "### Youngest F1 drivers "
   ]
  },
  {
   "cell_type": "code",
   "execution_count": 63,
   "metadata": {},
   "outputs": [
    {
     "data": {
      "text/html": [
       "<div>\n",
       "<style scoped>\n",
       "    .dataframe tbody tr th:only-of-type {\n",
       "        vertical-align: middle;\n",
       "    }\n",
       "\n",
       "    .dataframe tbody tr th {\n",
       "        vertical-align: top;\n",
       "    }\n",
       "\n",
       "    .dataframe thead th {\n",
       "        text-align: right;\n",
       "    }\n",
       "</style>\n",
       "<table border=\"1\" class=\"dataframe\">\n",
       "  <thead>\n",
       "    <tr style=\"text-align: right;\">\n",
       "      <th></th>\n",
       "      <th>driverId</th>\n",
       "      <th>driverRef</th>\n",
       "      <th>number</th>\n",
       "      <th>code</th>\n",
       "      <th>forename</th>\n",
       "      <th>surname</th>\n",
       "      <th>dob</th>\n",
       "      <th>nationality</th>\n",
       "      <th>birth_year</th>\n",
       "      <th>age</th>\n",
       "    </tr>\n",
       "  </thead>\n",
       "  <tbody>\n",
       "    <tr>\n",
       "      <th>843</th>\n",
       "      <td>845</td>\n",
       "      <td>sirotkin</td>\n",
       "      <td>35</td>\n",
       "      <td>SIR</td>\n",
       "      <td>Sergey</td>\n",
       "      <td>Sirotkin</td>\n",
       "      <td>1995-08-27</td>\n",
       "      <td>Russian</td>\n",
       "      <td>1995</td>\n",
       "      <td>25</td>\n",
       "    </tr>\n",
       "    <tr>\n",
       "      <th>847</th>\n",
       "      <td>849</td>\n",
       "      <td>latifi</td>\n",
       "      <td>6</td>\n",
       "      <td>LAT</td>\n",
       "      <td>Nicholas</td>\n",
       "      <td>Latifi</td>\n",
       "      <td>1995-06-29</td>\n",
       "      <td>Canadian</td>\n",
       "      <td>1995</td>\n",
       "      <td>25</td>\n",
       "    </tr>\n",
       "    <tr>\n",
       "      <th>452</th>\n",
       "      <td>842</td>\n",
       "      <td>gasly</td>\n",
       "      <td>10</td>\n",
       "      <td>GAS</td>\n",
       "      <td>Pierre</td>\n",
       "      <td>Gasly</td>\n",
       "      <td>1996-02-07</td>\n",
       "      <td>French</td>\n",
       "      <td>1996</td>\n",
       "      <td>24</td>\n",
       "    </tr>\n",
       "    <tr>\n",
       "      <th>846</th>\n",
       "      <td>848</td>\n",
       "      <td>albon</td>\n",
       "      <td>23</td>\n",
       "      <td>ALB</td>\n",
       "      <td>Alexander</td>\n",
       "      <td>Albon</td>\n",
       "      <td>1996-03-23</td>\n",
       "      <td>Thai</td>\n",
       "      <td>1996</td>\n",
       "      <td>24</td>\n",
       "    </tr>\n",
       "    <tr>\n",
       "      <th>838</th>\n",
       "      <td>839</td>\n",
       "      <td>ocon</td>\n",
       "      <td>31</td>\n",
       "      <td>OCO</td>\n",
       "      <td>Esteban</td>\n",
       "      <td>Ocon</td>\n",
       "      <td>1996-09-17</td>\n",
       "      <td>French</td>\n",
       "      <td>1996</td>\n",
       "      <td>24</td>\n",
       "    </tr>\n",
       "    <tr>\n",
       "      <th>842</th>\n",
       "      <td>844</td>\n",
       "      <td>leclerc</td>\n",
       "      <td>16</td>\n",
       "      <td>LEC</td>\n",
       "      <td>Charles</td>\n",
       "      <td>Leclerc</td>\n",
       "      <td>1997-10-16</td>\n",
       "      <td>Monegasque</td>\n",
       "      <td>1997</td>\n",
       "      <td>23</td>\n",
       "    </tr>\n",
       "    <tr>\n",
       "      <th>829</th>\n",
       "      <td>830</td>\n",
       "      <td>max_verstappen</td>\n",
       "      <td>33</td>\n",
       "      <td>VER</td>\n",
       "      <td>Max</td>\n",
       "      <td>Verstappen</td>\n",
       "      <td>1997-09-30</td>\n",
       "      <td>Dutch</td>\n",
       "      <td>1997</td>\n",
       "      <td>23</td>\n",
       "    </tr>\n",
       "    <tr>\n",
       "      <th>845</th>\n",
       "      <td>847</td>\n",
       "      <td>russell</td>\n",
       "      <td>63</td>\n",
       "      <td>RUS</td>\n",
       "      <td>George</td>\n",
       "      <td>Russell</td>\n",
       "      <td>1998-02-15</td>\n",
       "      <td>British</td>\n",
       "      <td>1998</td>\n",
       "      <td>22</td>\n",
       "    </tr>\n",
       "    <tr>\n",
       "      <th>839</th>\n",
       "      <td>840</td>\n",
       "      <td>stroll</td>\n",
       "      <td>18</td>\n",
       "      <td>STR</td>\n",
       "      <td>Lance</td>\n",
       "      <td>Stroll</td>\n",
       "      <td>1998-10-29</td>\n",
       "      <td>Canadian</td>\n",
       "      <td>1998</td>\n",
       "      <td>22</td>\n",
       "    </tr>\n",
       "    <tr>\n",
       "      <th>844</th>\n",
       "      <td>846</td>\n",
       "      <td>norris</td>\n",
       "      <td>4</td>\n",
       "      <td>NOR</td>\n",
       "      <td>Lando</td>\n",
       "      <td>Norris</td>\n",
       "      <td>1999-11-13</td>\n",
       "      <td>British</td>\n",
       "      <td>1999</td>\n",
       "      <td>21</td>\n",
       "    </tr>\n",
       "  </tbody>\n",
       "</table>\n",
       "</div>"
      ],
      "text/plain": [
       "     driverId       driverRef number code   forename     surname         dob  \\\n",
       "843       845        sirotkin     35  SIR     Sergey    Sirotkin  1995-08-27   \n",
       "847       849          latifi      6  LAT   Nicholas      Latifi  1995-06-29   \n",
       "452       842           gasly     10  GAS     Pierre       Gasly  1996-02-07   \n",
       "846       848           albon     23  ALB  Alexander       Albon  1996-03-23   \n",
       "838       839            ocon     31  OCO    Esteban        Ocon  1996-09-17   \n",
       "842       844         leclerc     16  LEC    Charles     Leclerc  1997-10-16   \n",
       "829       830  max_verstappen     33  VER        Max  Verstappen  1997-09-30   \n",
       "845       847         russell     63  RUS     George     Russell  1998-02-15   \n",
       "839       840          stroll     18  STR      Lance      Stroll  1998-10-29   \n",
       "844       846          norris      4  NOR      Lando      Norris  1999-11-13   \n",
       "\n",
       "    nationality  birth_year  age  \n",
       "843     Russian        1995   25  \n",
       "847    Canadian        1995   25  \n",
       "452      French        1996   24  \n",
       "846        Thai        1996   24  \n",
       "838      French        1996   24  \n",
       "842  Monegasque        1997   23  \n",
       "829       Dutch        1997   23  \n",
       "845     British        1998   22  \n",
       "839    Canadian        1998   22  \n",
       "844     British        1999   21  "
      ]
     },
     "execution_count": 63,
     "metadata": {},
     "output_type": "execute_result"
    }
   ],
   "source": [
    "df_drivers.tail(10)"
   ]
  },
  {
   "cell_type": "code",
   "execution_count": 66,
   "metadata": {},
   "outputs": [
    {
     "data": {
      "text/html": [
       "<div>\n",
       "<style scoped>\n",
       "    .dataframe tbody tr th:only-of-type {\n",
       "        vertical-align: middle;\n",
       "    }\n",
       "\n",
       "    .dataframe tbody tr th {\n",
       "        vertical-align: top;\n",
       "    }\n",
       "\n",
       "    .dataframe thead th {\n",
       "        text-align: right;\n",
       "    }\n",
       "</style>\n",
       "<table border=\"1\" class=\"dataframe\">\n",
       "  <thead>\n",
       "    <tr style=\"text-align: right;\">\n",
       "      <th></th>\n",
       "      <th># of drivers</th>\n",
       "    </tr>\n",
       "    <tr>\n",
       "      <th>nationality</th>\n",
       "      <th></th>\n",
       "    </tr>\n",
       "  </thead>\n",
       "  <tbody>\n",
       "    <tr>\n",
       "      <th>British</th>\n",
       "      <td>164</td>\n",
       "    </tr>\n",
       "    <tr>\n",
       "      <th>American</th>\n",
       "      <td>157</td>\n",
       "    </tr>\n",
       "    <tr>\n",
       "      <th>Italian</th>\n",
       "      <td>99</td>\n",
       "    </tr>\n",
       "    <tr>\n",
       "      <th>French</th>\n",
       "      <td>73</td>\n",
       "    </tr>\n",
       "    <tr>\n",
       "      <th>German</th>\n",
       "      <td>49</td>\n",
       "    </tr>\n",
       "  </tbody>\n",
       "</table>\n",
       "</div>"
      ],
      "text/plain": [
       "             # of drivers\n",
       "nationality              \n",
       "British               164\n",
       "American              157\n",
       "Italian                99\n",
       "French                 73\n",
       "German                 49"
      ]
     },
     "execution_count": 66,
     "metadata": {},
     "output_type": "execute_result"
    }
   ],
   "source": [
    "## Countries with most F1 drivers\n",
    "countries_F1=df_drivers.groupby('nationality')['driverId'].count()\n",
    "countries_F1=pd.DataFrame(countries_F1)\n",
    "\n",
    "countries_F1.rename(columns={'driverId':'# of drivers'}, inplace=True)\n",
    "countries_F1.sort_values(by='# of drivers', inplace=True, ascending=False)\n",
    "\n",
    "countries_F1.head()"
   ]
  },
  {
   "cell_type": "code",
   "execution_count": 67,
   "metadata": {},
   "outputs": [],
   "source": [
    "# ploting a pie chart of top 20 countries\n",
    "import matplotlib as mlt\n",
    "import matplotlib.pyplot as plt"
   ]
  },
  {
   "cell_type": "code",
   "execution_count": 96,
   "metadata": {},
   "outputs": [
    {
     "data": {
      "image/png": "[encoded data removed]",
      "text/plain": [
       "<Figure size 576x720 with 1 Axes>"
      ]
     },
     "metadata": {},
     "output_type": "display_data"
    }
   ],
   "source": [
    "countries_F1['# of drivers'].head(10).plot(kind='pie', figsize=(8,10), autopct='%1.1f%%', shadow=True, legend=None)\n",
    "\n",
    "plt.show()"
   ]
  },
  {
   "cell_type": "markdown",
   "metadata": {},
   "source": [
    "### Two Indian Drivers"
   ]
  },
  {
   "cell_type": "code",
   "execution_count": 97,
   "metadata": {},
   "outputs": [
    {
     "data": {
      "text/html": [
       "<div>\n",
       "<style scoped>\n",
       "    .dataframe tbody tr th:only-of-type {\n",
       "        vertical-align: middle;\n",
       "    }\n",
       "\n",
       "    .dataframe tbody tr th {\n",
       "        vertical-align: top;\n",
       "    }\n",
       "\n",
       "    .dataframe thead th {\n",
       "        text-align: right;\n",
       "    }\n",
       "</style>\n",
       "<table border=\"1\" class=\"dataframe\">\n",
       "  <thead>\n",
       "    <tr style=\"text-align: right;\">\n",
       "      <th></th>\n",
       "      <th>driverId</th>\n",
       "      <th>driverRef</th>\n",
       "      <th>number</th>\n",
       "      <th>code</th>\n",
       "      <th>forename</th>\n",
       "      <th>surname</th>\n",
       "      <th>dob</th>\n",
       "      <th>nationality</th>\n",
       "      <th>birth_year</th>\n",
       "      <th>age</th>\n",
       "    </tr>\n",
       "  </thead>\n",
       "  <tbody>\n",
       "    <tr>\n",
       "      <th>38</th>\n",
       "      <td>39</td>\n",
       "      <td>karthikeyan</td>\n",
       "      <td>\\N</td>\n",
       "      <td>KAR</td>\n",
       "      <td>Narain</td>\n",
       "      <td>Karthikeyan</td>\n",
       "      <td>1977-01-14</td>\n",
       "      <td>Indian</td>\n",
       "      <td>1977</td>\n",
       "      <td>43</td>\n",
       "    </tr>\n",
       "    <tr>\n",
       "      <th>811</th>\n",
       "      <td>812</td>\n",
       "      <td>chandhok</td>\n",
       "      <td>\\N</td>\n",
       "      <td>CHA</td>\n",
       "      <td>Karun</td>\n",
       "      <td>Chandhok</td>\n",
       "      <td>1984-01-19</td>\n",
       "      <td>Indian</td>\n",
       "      <td>1984</td>\n",
       "      <td>36</td>\n",
       "    </tr>\n",
       "  </tbody>\n",
       "</table>\n",
       "</div>"
      ],
      "text/plain": [
       "     driverId    driverRef number code forename      surname         dob  \\\n",
       "38         39  karthikeyan     \\N  KAR   Narain  Karthikeyan  1977-01-14   \n",
       "811       812     chandhok     \\N  CHA    Karun     Chandhok  1984-01-19   \n",
       "\n",
       "    nationality  birth_year  age  \n",
       "38       Indian        1977   43  \n",
       "811      Indian        1984   36  "
      ]
     },
     "execution_count": 97,
     "metadata": {},
     "output_type": "execute_result"
    }
   ],
   "source": [
    "df_drivers[df_drivers['nationality']=='Indian']"
   ]
  },
  {
   "cell_type": "markdown",
   "metadata": {},
   "source": [
    "#### Karun is still with F1 as a TV representator with Sky Sports F1"
   ]
  },
  {
   "cell_type": "code",
   "execution_count": null,
   "metadata": {},
   "outputs": [],
   "source": []
  }
 ],
 "metadata": {
  "kernelspec": {
   "display_name": "Python 3",
   "language": "python",
   "name": "python3"
  },
  "language_info": {
   "codemirror_mode": {
    "name": "ipython",
    "version": 3
   },
   "file_extension": ".py",
   "mimetype": "text/x-python",
   "name": "python",
   "nbconvert_exporter": "python",
   "pygments_lexer": "ipython3",
   "version": "3.8.3"
  }
 },
 "nbformat": 4,
 "nbformat_minor": 4
}
