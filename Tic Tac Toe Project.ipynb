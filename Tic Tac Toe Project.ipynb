{
 "cells": [
  {
   "cell_type": "markdown",
   "metadata": {},
   "source": [
    "# Tic Tac Toe Milestone Project"
   ]
  },
  {
   "cell_type": "code",
   "execution_count": 1,
   "metadata": {},
   "outputs": [],
   "source": [
    "# Scope of the project:\n",
    "# 1: Print a board, 2: Take in Player Input, 3: Place their input on board, 4: Check if the game is won, tied, lost or ongoing\n",
    "# 5: Repeat step 3 and 4 until the game is won or tied, 6:Ask if the players wants to play again. "
   ]
  },
  {
   "cell_type": "code",
   "execution_count": 26,
   "metadata": {},
   "outputs": [
    {
     "name": "stdout",
     "output_type": "stream",
     "text": [
      "O|X| \n",
      "O|O|O\n",
      "X| |X\n",
      "You have won!\n"
     ]
    }
   ],
   "source": [
    "# Print a board: Write a function that prints out a board. Setup you board as a list, each index 1-9 corresponds with a number\n",
    "# on a number pad, so you get a 3 by 3 board representation.\n",
    "def display_board(board):\n",
    "    for index in range(1,4): # range from 1 to 4 only so that it skips '#' and then prints first rows and so on\n",
    "        print str(board[index]) + '|' + str(board[index+3]) + '|' + str(board[index+6])\n",
    "# end of display_board function\n",
    "\n",
    "# test_board=['#','X','O','X','O','X','O','X','O','X'] \n",
    "# hash is added to the list so that the index can start from 1\n",
    "\n",
    "def player_selection():\n",
    "    player1=input(\"Please pick a marker 'X' or 'O': \") # accepting strings only within quotes\n",
    "    print 'You shall be Player 1'\n",
    "    if player1=='X':\n",
    "        player2='O'\n",
    "    else:\n",
    "        player1, player2='O', 'X'\n",
    "    return player1, player2\n",
    "# End of player_selection function\n",
    "\n",
    "def player_input():\n",
    "    pos=int(input('Please enter position between 1-9: '))\n",
    "    if pos in range(1,10):\n",
    "        return pos\n",
    "    else:\n",
    "        print 'Position out of range of board: Try again!'\n",
    "        return player_input() #recursion of function \n",
    "# player_input() # to get input from user\n",
    "\n",
    "def place_marker():\n",
    "    step=0 # for the steps both players can take during the game\n",
    "    while step<9:\n",
    "        step+=1\n",
    "        pos=player_input()\n",
    "        if input_board[pos]!=' ':\n",
    "            step-=1\n",
    "            print 'Position already occupied'\n",
    "            # to cover cases where a player can't update an already filled position\n",
    "            continue\n",
    "        else:\n",
    "            if step%2!=0:\n",
    "                input_board[pos]=p1\n",
    "            else:\n",
    "                input_board[pos]=p2\n",
    "        # board is displayed as soon as we have values within while loop\n",
    "        clear_output()\n",
    "        display_board(input_board)\n",
    "        if check_input_board(input_board)==True:\n",
    "            print 'You have won!'\n",
    "            break\n",
    "        else:\n",
    "            pass\n",
    "# end of place_marker function\n",
    "\n",
    "def check_input_board(check_board):\n",
    "    if ((check_board[1]==check_board[4]==check_board[7] and check_board[1]!=' ') \n",
    "    or (check_board[1]==check_board[2]==check_board[3] and check_board[1]!=' ') \n",
    "    or (check_board[3]==check_board[6]==check_board[9] and check_board[3]!=' ') \n",
    "    or (check_board[7]==check_board[8]==check_board[9] and check_board[7]!=' ') \n",
    "    or (check_board[2]==check_board[5]==check_board[8] and check_board[2]!=' ') \n",
    "    or (check_board[1]==check_board[5]==check_board[9] and check_board[1]!=' ') \n",
    "    or (check_board[3]==check_board[5]==check_board[7] and check_board[3]!=' ') \n",
    "    or (check_board[4]==check_board[5]==check_board[6] and check_board[4]!=' ')):\n",
    "        return True\n",
    "    else:\n",
    "        return False\n",
    "# end of check_input_board function\n",
    "\n",
    "# Final Flow of the program:: All other functions are being called here\n",
    "from IPython.display import clear_output\n",
    "input_board=['#',' ',' ',' ',' ',' ',' ',' ',' ',' ']\n",
    "# empty list for the values of input board\n",
    "display_board(input_board)\n",
    "# board displayed just for the first time\n",
    "p1, p2=player_selection() # will get which player is choosing what\n",
    "choice='Y'\n",
    "while choice=='Y':\n",
    "    place_marker() # to fill out the values of input string\n",
    "    choice=input('Do you want to play again? (Y/N) :')\n",
    "# end of place_marker() function\n",
    "## END OF PROJECT TIC TAC TOE :: 27-Apr-2020 to 28-Apr-2020"
   ]
  }
 ],
 "metadata": {
  "kernelspec": {
   "display_name": "Python 2",
   "language": "python",
   "name": "python2"
  },
  "language_info": {
   "codemirror_mode": {
    "name": "ipython",
    "version": 2
   },
   "file_extension": ".py",
   "mimetype": "text/x-python",
   "name": "python",
   "nbconvert_exporter": "python",
   "pygments_lexer": "ipython2",
   "version": "2.7.16"
  }
 },
 "nbformat": 4,
 "nbformat_minor": 2
}
